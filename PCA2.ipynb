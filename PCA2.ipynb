{
  "nbformat": 4,
  "nbformat_minor": 0,
  "metadata": {
    "colab": {
      "provenance": []
    },
    "kernelspec": {
      "name": "python3",
      "display_name": "Python 3"
    },
    "language_info": {
      "name": "python"
    }
  },
  "cells": [
    {
      "cell_type": "code",
      "execution_count": null,
      "metadata": {
        "colab": {
          "base_uri": "https://localhost:8080/"
        },
        "id": "BAI7cMJ_hrFO",
        "outputId": "e91c35a8-d9d1-4f57-fdf8-b95c9b156490"
      },
      "outputs": [
        {
          "output_type": "stream",
          "name": "stdout",
          "text": [
            "Dataset:\n",
            "                   PC1    PC2    PC3\n",
            "Variable                           \n",
            "Climate         0.190  0.017  0.207\n",
            "Housing         0.544  0.020  0.204\n",
            "Health          0.782 -0.605  0.144\n",
            "Crime           0.365  0.294  0.585\n",
            "Transportation  0.585  0.085  0.234\n",
            "Education       0.394 -0.273  0.027\n",
            "Arts            0.985  0.126 -0.111\n",
            "Recreation      0.520  0.402  0.519\n",
            "Economy         0.142  0.150  0.239 \n",
            "\n"
          ]
        }
      ],
      "source": [
        "import numpy as np\n",
        "import pandas as pd\n",
        "data = {\n",
        "    'Variable': ['Climate','Housing','Health','Crime','Transportation','Education','Arts','Recreation','Economy'],\n",
        "    'PC1': [0.190, 0.544, 0.782, 0.365, 0.585, 0.394, 0.985, 0.520, 0.142],\n",
        "    'PC2': [0.017, 0.020, -0.605, 0.294, 0.085, -0.273, 0.126, 0.402, 0.150],\n",
        "    'PC3': [0.207, 0.204, 0.144, 0.585, 0.234, 0.027, -0.111, 0.519, 0.239]\n",
        "}\n",
        "data = {\n",
        "    'Variable': ['Climate','Housing','Health','Crime','Transportation','Education','Arts','Recreation','Economy'],\n",
        "    'PC1': [0.190, 0.544, 0.782, 0.365, 0.585, 0.394, 0.985, 0.520, 0.142],\n",
        "    'PC2': [0.017, 0.020, -0.605, 0.294, 0.085, -0.273, 0.126, 0.402, 0.150],\n",
        "    'PC3': [0.207, 0.204, 0.144, 0.585, 0.234, 0.027, -0.111, 0.519, 0.239]\n",
        "}\n",
        "\n",
        "df = pd.DataFrame(data)\n",
        "df.set_index('Variable', inplace=True)\n",
        "\n",
        "print(\"Dataset:\\n\", df, \"\\n\")"
      ]
    },
    {
      "cell_type": "code",
      "source": [
        "for pc in ['PC1','PC2','PC3']:\n",
        "    max_var = df[pc].abs().idxmax()\n",
        "    max_val = df.loc[max_var, pc]\n",
        "    print(f\"Highest contributor to {pc}: {max_var} (loading = {max_val})\")"
      ],
      "metadata": {
        "id": "5lXVEGjVh0oP",
        "outputId": "ebe269c5-6515-4c58-e47b-fde3f626f27c",
        "colab": {
          "base_uri": "https://localhost:8080/"
        }
      },
      "execution_count": null,
      "outputs": [
        {
          "output_type": "stream",
          "name": "stdout",
          "text": [
            "Highest contributor to PC1: Arts (loading = 0.985)\n",
            "Highest contributor to PC2: Health (loading = -0.605)\n",
            "Highest contributor to PC3: Crime (loading = 0.585)\n"
          ]
        }
      ]
    },
    {
      "cell_type": "code",
      "source": [
        "abs_df = df.abs()\n",
        "overall_max_var = abs_df.max(axis=1).idxmax()\n",
        "overall_max_val = abs_df.max(axis=1).max()\n",
        "print(f\"\\nOverall strongest contributor: {overall_max_var} (loading = {overall_max_val})\")"
      ],
      "metadata": {
        "id": "aCHUNMnHh3Uf",
        "outputId": "379f6af5-b0b7-4366-c8f5-c823f9398758",
        "colab": {
          "base_uri": "https://localhost:8080/"
        }
      },
      "execution_count": null,
      "outputs": [
        {
          "output_type": "stream",
          "name": "stdout",
          "text": [
            "\n",
            "Overall strongest contributor: Arts (loading = 0.985)\n"
          ]
        }
      ]
    }
  ]
}